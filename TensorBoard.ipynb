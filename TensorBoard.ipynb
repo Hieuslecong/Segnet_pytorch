{
  "nbformat": 4,
  "nbformat_minor": 0,
  "metadata": {
    "colab": {
      "name": "TensorBoard.ipynb",
      "provenance": [],
      "collapsed_sections": []
    },
    "kernelspec": {
      "name": "python3",
      "display_name": "Python 3"
    },
    "language_info": {
      "name": "python"
    }
  },
  "cells": [
    {
      "cell_type": "markdown",
      "metadata": {
        "id": "4mvMV5_3wc99"
      },
      "source": [
        "## **TensorBoard**"
      ]
    },
    {
      "cell_type": "code",
      "execution_count": null,
      "metadata": {
        "id": "J31GPm8MzGxw"
      },
      "outputs": [],
      "source": [
        "# Load the TensorBoard notebook extension.\n",
        "import os\n",
        "import tensorflow as tf\n",
        "import pandas as pd\n",
        "from sklearn.preprocessing import MinMaxScaler\n",
        "%load_ext tensorboard\n",
        "logs_base_dir = 'the directory of the folder named \"logfiles\"'\n",
        "os.makedirs(logs_base_dir, exist_ok=True)\n",
        "%tensorboard --logdir {logs_base_dir}\n",
        "%tensorboard --logdir=epochs --port 5000"
      ]
    }
  ]
}